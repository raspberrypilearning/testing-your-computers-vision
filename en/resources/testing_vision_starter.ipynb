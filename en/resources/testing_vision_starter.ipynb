{
  "nbformat": 4,
  "nbformat_minor": 0,
  "metadata": {
    "colab": {
      "name": "testing_vision_starter",
      "provenance": [],
      "collapsed_sections": []
    },
    "kernelspec": {
      "name": "python3",
      "display_name": "Python 3"
    }
  },
  "cells": [
    {
      "cell_type": "markdown",
      "metadata": {
        "id": "kaaJRNmXRzuq",
        "colab_type": "text"
      },
      "source": [
        "First, import some libraries we're going to need:\n",
        "\n",
        "*   `tensorfolow` will do the actual machine learning and image recognition work\n",
        "*   `os` will access the operating system, to work with the stored image file\n",
        "*   `maplotlib.pyplot` will display the image in the Colab notebook\n",
        "*   `numpy` is used to help convert the image into numbers for the model to read\n",
        "\n"
      ]
    },
    {
      "cell_type": "code",
      "metadata": {
        "id": "pG2vpA8FLCww",
        "colab_type": "code",
        "colab": {}
      },
      "source": [
        "import tensorflow as tf\n",
        "import os\n",
        "import matplotlib.pyplot as plt\n",
        "import numpy as np"
      ],
      "execution_count": 0,
      "outputs": []
    },
    {
      "cell_type": "markdown",
      "metadata": {
        "id": "uRMFnAhURbi5",
        "colab_type": "text"
      },
      "source": [
        "This function takes a URL, fetches the image at it, and stores it in a file.\n",
        "It then returns the path to the file. This will let you take an image from the internet and turn it into a local file you can give to your model.\n",
        "\n",
        "It will fail if the image at the URL cannot be read by a machine. Wikipedia images are a good way to avoid this, as is uploading images to [imagebb](https://imgbb.com/) or a similar hosting site."
      ]
    },
    {
      "cell_type": "code",
      "metadata": {
        "id": "aTi1TFg-S3AE",
        "colab_type": "code",
        "colab": {}
      },
      "source": [
        "def get_image_from_url(image_url):\n",
        "  # If the temporary test_image.jpg file already exists, \n",
        "  # delete it so a new one can be made.\n",
        "  if os.path.exists('/root/.keras/datasets/test_image.jpg'):\n",
        "    os.remove('/root/.keras/datasets/test_image.jpg')\n",
        "\n",
        "  image_path = tf.keras.utils.get_file('test_image.jpg', origin=image_url)\n",
        "  return image_path"
      ],
      "execution_count": 0,
      "outputs": []
    },
    {
      "cell_type": "markdown",
      "metadata": {
        "id": "jH2g6hC3RX1z",
        "colab_type": "text"
      },
      "source": [
        "This function takes a list of predictions, looks up the labels for them, \n",
        "then prints the labels and the weight the model has given to that label. It will save you some work later."
      ]
    },
    {
      "cell_type": "code",
      "metadata": {
        "id": "vA_1c5f407cg",
        "colab_type": "code",
        "colab": {}
      },
      "source": [
        "def print_predictions(predictions):\n",
        "    for (prediction, number) in zip(predictions[0], range(1, len(predictions[0])+1)):\n",
        "      print('{}. {} {:.2f}%'.format(number, prediction[1], prediction[2]*100))"
      ],
      "execution_count": 0,
      "outputs": []
    },
    {
      "cell_type": "markdown",
      "metadata": {
        "id": "baItUUKnTBI1",
        "colab_type": "text"
      },
      "source": [
        "Load the model that will identify your images:"
      ]
    },
    {
      "cell_type": "code",
      "metadata": {
        "id": "duEfdVqldNSF",
        "colab_type": "code",
        "colab": {}
      },
      "source": [
        ""
      ],
      "execution_count": 0,
      "outputs": []
    },
    {
      "cell_type": "markdown",
      "metadata": {
        "id": "GM8FnZ7mTsLM",
        "colab_type": "text"
      },
      "source": [
        "Create a function to make predictions about what an image shows:"
      ]
    },
    {
      "cell_type": "code",
      "metadata": {
        "id": "aD2D_ogHeGMS",
        "colab_type": "code",
        "colab": {}
      },
      "source": [
        ""
      ],
      "execution_count": 0,
      "outputs": []
    },
    {
      "cell_type": "markdown",
      "metadata": {
        "id": "YSXL2SzBT3DY",
        "colab_type": "text"
      },
      "source": [
        "Call the prediction function:"
      ]
    },
    {
      "cell_type": "code",
      "metadata": {
        "id": "opEGe6CXyGl8",
        "colab_type": "code",
        "colab": {}
      },
      "source": [
        ""
      ],
      "execution_count": 0,
      "outputs": []
    }
  ]
}